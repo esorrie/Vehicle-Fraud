{
 "cells": [
  {
   "cell_type": "markdown",
   "metadata": {},
   "source": []
  },
  {
   "cell_type": "markdown",
   "metadata": {},
   "source": [
    "# Vehicle Fraud Detection"
   ]
  },
  {
   "cell_type": "markdown",
   "metadata": {},
   "source": [
    "## Loading Data and Data Exploration"
   ]
  },
  {
   "cell_type": "code",
   "execution_count": 3,
   "metadata": {},
   "outputs": [
    {
     "name": "stdout",
     "output_type": "stream",
     "text": [
      "Dataset shape: (15420, 33)\n",
      "<class 'pandas.core.frame.DataFrame'>\n",
      "RangeIndex: 15420 entries, 0 to 15419\n",
      "Data columns (total 33 columns):\n",
      " #   Column                Non-Null Count  Dtype \n",
      "---  ------                --------------  ----- \n",
      " 0   Month                 15420 non-null  object\n",
      " 1   WeekOfMonth           15420 non-null  int64 \n",
      " 2   DayOfWeek             15420 non-null  object\n",
      " 3   Make                  15420 non-null  object\n",
      " 4   AccidentArea          15420 non-null  object\n",
      " 5   DayOfWeekClaimed      15420 non-null  object\n",
      " 6   MonthClaimed          15420 non-null  object\n",
      " 7   WeekOfMonthClaimed    15420 non-null  int64 \n",
      " 8   Sex                   15420 non-null  object\n",
      " 9   MaritalStatus         15420 non-null  object\n",
      " 10  Age                   15420 non-null  int64 \n",
      " 11  Fault                 15420 non-null  object\n",
      " 12  PolicyType            15420 non-null  object\n",
      " 13  VehicleCategory       15420 non-null  object\n",
      " 14  VehiclePrice          15420 non-null  object\n",
      " 15  PolicyNumber          15420 non-null  int64 \n",
      " 16  RepNumber             15420 non-null  int64 \n",
      " 17  Deductible            15420 non-null  int64 \n",
      " 18  DriverRating          15420 non-null  int64 \n",
      " 19  Days:Policy-Accident  15420 non-null  object\n",
      " 20  Days:Policy-Claim     15420 non-null  object\n",
      " 21  PastNumberOfClaims    15420 non-null  object\n",
      " 22  AgeOfVehicle          15420 non-null  object\n",
      " 23  AgeOfPolicyHolder     15420 non-null  object\n",
      " 24  PoliceReportFiled     15420 non-null  object\n",
      " 25  WitnessPresent        15420 non-null  object\n",
      " 26  AgentType             15420 non-null  object\n",
      " 27  NumberOfSuppliments   15420 non-null  object\n",
      " 28  AddressChange-Claim   15420 non-null  object\n",
      " 29  NumberOfCars          15420 non-null  object\n",
      " 30  Year                  15420 non-null  int64 \n",
      " 31  BasePolicy            15420 non-null  object\n",
      " 32  FraudFound            15420 non-null  object\n",
      "dtypes: int64(8), object(25)\n",
      "memory usage: 3.9+ MB\n",
      "Data Type: None\n",
      "\n",
      "Class Distribution FraudFound\n",
      "No     0.940143\n",
      "Yes    0.059857\n",
      "Name: proportion, dtype: float64\n"
     ]
    }
   ],
   "source": [
    "import pandas as pd\n",
    "from sklearn.preprocessing import OneHotEncoder, StandardScaler, RobustScaler, MinMaxScaler\n",
    "from sklearn.model_selection import train_test_split, GridSearchCV\n",
    "from sklearn.linear_model import LogisticRegression\n",
    "from sklearn.tree import DecisionTreeClassifier\n",
    "from sklearn.ensemble import RandomForestClassifier\n",
    "from sklearn.neighbors import KNeighborsClassifier\n",
    "from sklearn.cluster import KMeans\n",
    "from sklearn.metrics import accuracy_score, classification_report, confusion_matrix, make_scorer, recall_score\n",
    "from imblearn.over_sampling import SMOTE\n",
    "import matplotlib.pyplot as plt\n",
    "import seaborn as sns\n",
    "import numpy as np\n",
    "\n",
    "# Loading data\n",
    "data = pd.read_csv('carclaims.csv')\n",
    "\n",
    "# Basic info on data\n",
    "print(\"Dataset shape:\", data.shape) # Rows and Columns of dataset\n",
    "print(\"Data Type:\", data.info())\n",
    "# print(\"\\nMissing Values\\n\", data.isnull().sum().sum()) \n",
    "print(\"\\nClass Distribution\", data['FraudFound'].value_counts(normalize=True))\n"
   ]
  },
  {
   "cell_type": "markdown",
   "metadata": {},
   "source": [
    "## Data Preprocessing"
   ]
  },
  {
   "cell_type": "code",
   "execution_count": 2,
   "metadata": {},
   "outputs": [
    {
     "data": {
      "text/html": [
       "<div>\n",
       "<style scoped>\n",
       "    .dataframe tbody tr th:only-of-type {\n",
       "        vertical-align: middle;\n",
       "    }\n",
       "\n",
       "    .dataframe tbody tr th {\n",
       "        vertical-align: top;\n",
       "    }\n",
       "\n",
       "    .dataframe thead th {\n",
       "        text-align: right;\n",
       "    }\n",
       "</style>\n",
       "<table border=\"1\" class=\"dataframe\">\n",
       "  <thead>\n",
       "    <tr style=\"text-align: right;\">\n",
       "      <th></th>\n",
       "      <th>Month</th>\n",
       "      <th>WeekOfMonth</th>\n",
       "      <th>DayOfWeek</th>\n",
       "      <th>Make</th>\n",
       "      <th>AccidentArea</th>\n",
       "      <th>DayOfWeekClaimed</th>\n",
       "      <th>MonthClaimed</th>\n",
       "      <th>WeekOfMonthClaimed</th>\n",
       "      <th>Sex</th>\n",
       "      <th>MaritalStatus</th>\n",
       "      <th>...</th>\n",
       "      <th>AgeOfPolicyHolder</th>\n",
       "      <th>PoliceReportFiled</th>\n",
       "      <th>WitnessPresent</th>\n",
       "      <th>AgentType</th>\n",
       "      <th>NumberOfSuppliments</th>\n",
       "      <th>AddressChange-Claim</th>\n",
       "      <th>NumberOfCars</th>\n",
       "      <th>Year</th>\n",
       "      <th>BasePolicy</th>\n",
       "      <th>FraudFound</th>\n",
       "    </tr>\n",
       "  </thead>\n",
       "  <tbody>\n",
       "    <tr>\n",
       "      <th>0</th>\n",
       "      <td>Dec</td>\n",
       "      <td>5</td>\n",
       "      <td>Wednesday</td>\n",
       "      <td>Honda</td>\n",
       "      <td>Urban</td>\n",
       "      <td>Tuesday</td>\n",
       "      <td>Jan</td>\n",
       "      <td>1</td>\n",
       "      <td>Female</td>\n",
       "      <td>Single</td>\n",
       "      <td>...</td>\n",
       "      <td>26 to 30</td>\n",
       "      <td>No</td>\n",
       "      <td>No</td>\n",
       "      <td>External</td>\n",
       "      <td>none</td>\n",
       "      <td>1 year</td>\n",
       "      <td>3 to 4</td>\n",
       "      <td>1994</td>\n",
       "      <td>Liability</td>\n",
       "      <td>No</td>\n",
       "    </tr>\n",
       "  </tbody>\n",
       "</table>\n",
       "<p>1 rows × 33 columns</p>\n",
       "</div>"
      ],
      "text/plain": [
       "  Month  WeekOfMonth  DayOfWeek   Make AccidentArea DayOfWeekClaimed  \\\n",
       "0   Dec            5  Wednesday  Honda        Urban          Tuesday   \n",
       "\n",
       "  MonthClaimed  WeekOfMonthClaimed     Sex MaritalStatus  ...  \\\n",
       "0          Jan                   1  Female        Single  ...   \n",
       "\n",
       "   AgeOfPolicyHolder PoliceReportFiled WitnessPresent AgentType  \\\n",
       "0           26 to 30                No             No  External   \n",
       "\n",
       "  NumberOfSuppliments  AddressChange-Claim  NumberOfCars  Year  BasePolicy  \\\n",
       "0                none               1 year        3 to 4  1994   Liability   \n",
       "\n",
       "  FraudFound  \n",
       "0         No  \n",
       "\n",
       "[1 rows x 33 columns]"
      ]
     },
     "execution_count": 2,
     "metadata": {},
     "output_type": "execute_result"
    }
   ],
   "source": [
    "data.head(1)"
   ]
  },
  {
   "cell_type": "code",
   "execution_count": 3,
   "metadata": {},
   "outputs": [],
   "source": [
    "# copy of data to avoid modifying original data\n",
    "data_copy = data.copy()"
   ]
  },
  {
   "cell_type": "code",
   "execution_count": 4,
   "metadata": {},
   "outputs": [
    {
     "data": {
      "text/plain": [
       "Index(['Month', 'WeekOfMonth', 'DayOfWeek', 'Make', 'AccidentArea',\n",
       "       'DayOfWeekClaimed', 'MonthClaimed', 'WeekOfMonthClaimed', 'Sex',\n",
       "       'MaritalStatus', 'Age', 'Fault', 'PolicyType', 'VehicleCategory',\n",
       "       'VehiclePrice', 'PolicyNumber', 'RepNumber', 'Deductible',\n",
       "       'DriverRating', 'Days:Policy-Accident', 'Days:Policy-Claim',\n",
       "       'PastNumberOfClaims', 'AgeOfVehicle', 'AgeOfPolicyHolder',\n",
       "       'PoliceReportFiled', 'WitnessPresent', 'AgentType',\n",
       "       'NumberOfSuppliments', 'AddressChange-Claim', 'NumberOfCars', 'Year',\n",
       "       'BasePolicy', 'FraudFound'],\n",
       "      dtype='object')"
      ]
     },
     "execution_count": 4,
     "metadata": {},
     "output_type": "execute_result"
    }
   ],
   "source": [
    "data_copy.columns"
   ]
  },
  {
   "cell_type": "code",
   "execution_count": 5,
   "metadata": {},
   "outputs": [
    {
     "data": {
      "text/html": [
       "<div>\n",
       "<style scoped>\n",
       "    .dataframe tbody tr th:only-of-type {\n",
       "        vertical-align: middle;\n",
       "    }\n",
       "\n",
       "    .dataframe tbody tr th {\n",
       "        vertical-align: top;\n",
       "    }\n",
       "\n",
       "    .dataframe thead th {\n",
       "        text-align: right;\n",
       "    }\n",
       "</style>\n",
       "<table border=\"1\" class=\"dataframe\">\n",
       "  <thead>\n",
       "    <tr style=\"text-align: right;\">\n",
       "      <th></th>\n",
       "      <th>AgeOfPolicyHolder</th>\n",
       "      <th>Age</th>\n",
       "    </tr>\n",
       "  </thead>\n",
       "  <tbody>\n",
       "    <tr>\n",
       "      <th>0</th>\n",
       "      <td>26 to 30</td>\n",
       "      <td>21</td>\n",
       "    </tr>\n",
       "    <tr>\n",
       "      <th>1</th>\n",
       "      <td>31 to 35</td>\n",
       "      <td>34</td>\n",
       "    </tr>\n",
       "    <tr>\n",
       "      <th>2</th>\n",
       "      <td>41 to 50</td>\n",
       "      <td>47</td>\n",
       "    </tr>\n",
       "    <tr>\n",
       "      <th>3</th>\n",
       "      <td>51 to 65</td>\n",
       "      <td>65</td>\n",
       "    </tr>\n",
       "    <tr>\n",
       "      <th>4</th>\n",
       "      <td>31 to 35</td>\n",
       "      <td>27</td>\n",
       "    </tr>\n",
       "    <tr>\n",
       "      <th>...</th>\n",
       "      <td>...</td>\n",
       "      <td>...</td>\n",
       "    </tr>\n",
       "    <tr>\n",
       "      <th>15415</th>\n",
       "      <td>31 to 35</td>\n",
       "      <td>35</td>\n",
       "    </tr>\n",
       "    <tr>\n",
       "      <th>15416</th>\n",
       "      <td>31 to 35</td>\n",
       "      <td>30</td>\n",
       "    </tr>\n",
       "    <tr>\n",
       "      <th>15417</th>\n",
       "      <td>26 to 30</td>\n",
       "      <td>24</td>\n",
       "    </tr>\n",
       "    <tr>\n",
       "      <th>15418</th>\n",
       "      <td>31 to 35</td>\n",
       "      <td>34</td>\n",
       "    </tr>\n",
       "    <tr>\n",
       "      <th>15419</th>\n",
       "      <td>26 to 30</td>\n",
       "      <td>21</td>\n",
       "    </tr>\n",
       "  </tbody>\n",
       "</table>\n",
       "<p>15420 rows × 2 columns</p>\n",
       "</div>"
      ],
      "text/plain": [
       "      AgeOfPolicyHolder  Age\n",
       "0              26 to 30   21\n",
       "1              31 to 35   34\n",
       "2              41 to 50   47\n",
       "3              51 to 65   65\n",
       "4              31 to 35   27\n",
       "...                 ...  ...\n",
       "15415          31 to 35   35\n",
       "15416          31 to 35   30\n",
       "15417          26 to 30   24\n",
       "15418          31 to 35   34\n",
       "15419          26 to 30   21\n",
       "\n",
       "[15420 rows x 2 columns]"
      ]
     },
     "execution_count": 5,
     "metadata": {},
     "output_type": "execute_result"
    }
   ],
   "source": [
    "# check any columns for repeating data \n",
    "data_copy[['AgeOfPolicyHolder', 'Age']]"
   ]
  },
  {
   "cell_type": "code",
   "execution_count": 6,
   "metadata": {},
   "outputs": [
    {
     "data": {
      "text/html": [
       "<div>\n",
       "<style scoped>\n",
       "    .dataframe tbody tr th:only-of-type {\n",
       "        vertical-align: middle;\n",
       "    }\n",
       "\n",
       "    .dataframe tbody tr th {\n",
       "        vertical-align: top;\n",
       "    }\n",
       "\n",
       "    .dataframe thead th {\n",
       "        text-align: right;\n",
       "    }\n",
       "</style>\n",
       "<table border=\"1\" class=\"dataframe\">\n",
       "  <thead>\n",
       "    <tr style=\"text-align: right;\">\n",
       "      <th></th>\n",
       "      <th>BasePolicy</th>\n",
       "      <th>PolicyType</th>\n",
       "      <th>VehicleCategory</th>\n",
       "    </tr>\n",
       "  </thead>\n",
       "  <tbody>\n",
       "    <tr>\n",
       "      <th>0</th>\n",
       "      <td>Liability</td>\n",
       "      <td>Sport - Liability</td>\n",
       "      <td>Sport</td>\n",
       "    </tr>\n",
       "    <tr>\n",
       "      <th>1</th>\n",
       "      <td>Collision</td>\n",
       "      <td>Sport - Collision</td>\n",
       "      <td>Sport</td>\n",
       "    </tr>\n",
       "    <tr>\n",
       "      <th>2</th>\n",
       "      <td>Collision</td>\n",
       "      <td>Sport - Collision</td>\n",
       "      <td>Sport</td>\n",
       "    </tr>\n",
       "    <tr>\n",
       "      <th>3</th>\n",
       "      <td>Liability</td>\n",
       "      <td>Sedan - Liability</td>\n",
       "      <td>Sport</td>\n",
       "    </tr>\n",
       "    <tr>\n",
       "      <th>4</th>\n",
       "      <td>Collision</td>\n",
       "      <td>Sport - Collision</td>\n",
       "      <td>Sport</td>\n",
       "    </tr>\n",
       "    <tr>\n",
       "      <th>...</th>\n",
       "      <td>...</td>\n",
       "      <td>...</td>\n",
       "      <td>...</td>\n",
       "    </tr>\n",
       "    <tr>\n",
       "      <th>15415</th>\n",
       "      <td>Collision</td>\n",
       "      <td>Sedan - Collision</td>\n",
       "      <td>Sedan</td>\n",
       "    </tr>\n",
       "    <tr>\n",
       "      <th>15416</th>\n",
       "      <td>Liability</td>\n",
       "      <td>Sedan - Liability</td>\n",
       "      <td>Sport</td>\n",
       "    </tr>\n",
       "    <tr>\n",
       "      <th>15417</th>\n",
       "      <td>Collision</td>\n",
       "      <td>Sedan - Collision</td>\n",
       "      <td>Sedan</td>\n",
       "    </tr>\n",
       "    <tr>\n",
       "      <th>15418</th>\n",
       "      <td>All Perils</td>\n",
       "      <td>Sedan - All Perils</td>\n",
       "      <td>Sedan</td>\n",
       "    </tr>\n",
       "    <tr>\n",
       "      <th>15419</th>\n",
       "      <td>Collision</td>\n",
       "      <td>Sedan - Collision</td>\n",
       "      <td>Sedan</td>\n",
       "    </tr>\n",
       "  </tbody>\n",
       "</table>\n",
       "<p>15420 rows × 3 columns</p>\n",
       "</div>"
      ],
      "text/plain": [
       "       BasePolicy          PolicyType VehicleCategory\n",
       "0       Liability   Sport - Liability           Sport\n",
       "1       Collision   Sport - Collision           Sport\n",
       "2       Collision   Sport - Collision           Sport\n",
       "3       Liability   Sedan - Liability           Sport\n",
       "4       Collision   Sport - Collision           Sport\n",
       "...           ...                 ...             ...\n",
       "15415   Collision   Sedan - Collision           Sedan\n",
       "15416   Liability   Sedan - Liability           Sport\n",
       "15417   Collision   Sedan - Collision           Sedan\n",
       "15418  All Perils  Sedan - All Perils           Sedan\n",
       "15419   Collision   Sedan - Collision           Sedan\n",
       "\n",
       "[15420 rows x 3 columns]"
      ]
     },
     "execution_count": 6,
     "metadata": {},
     "output_type": "execute_result"
    }
   ],
   "source": [
    "data_copy[['BasePolicy', 'PolicyType', 'VehicleCategory']]"
   ]
  },
  {
   "cell_type": "markdown",
   "metadata": {},
   "source": [
    "### Removing redundant data columns\n",
    "### Separating claim data from fraud status "
   ]
  },
  {
   "cell_type": "code",
   "execution_count": 7,
   "metadata": {},
   "outputs": [],
   "source": [
    "# list of all redundant data points\n",
    "unwanted_data = ['PolicyNumber', 'BasePolicy', 'VehicleCategory', 'Age', 'FraudFound']\n",
    "\n",
    "#  Remove redundant data points\n",
    "X = data_copy.drop(unwanted_data, axis=1)\n",
    "\n",
    "#table that links entry ID in X to fraud value\n",
    "y = data_copy['FraudFound']"
   ]
  },
  {
   "cell_type": "code",
   "execution_count": 8,
   "metadata": {},
   "outputs": [],
   "source": [
    "# Extract categorical data, all data columns with datatype = object\n",
    "categorical_columns = X.select_dtypes(include=['object']).columns.tolist() # storing data columns as a list for easier handling\n",
    "encoder = OneHotEncoder(sparse_output=False)\n",
    "\n",
    "#  applying encoder to categorical data\n",
    "# fit_transform identifies all unique values in a category and transforms them into binary\n",
    "one_hot = encoder.fit_transform(X[categorical_columns])\n",
    "\n",
    "# Data frame of encoded columns\n",
    "one_hot_X = pd.DataFrame(one_hot, columns = encoder.get_feature_names_out(categorical_columns))\n",
    "\n",
    "# concat encoded data frame with original data\n",
    "X_encoded = pd.concat([X, one_hot_X], axis = 1)\n",
    "\n",
    "# Drop original categorical columns\n",
    "X_encoded = X_encoded.drop(categorical_columns, axis = 1)\n",
    "# print(f\"Encoded data :\\n {X_encoded}\")"
   ]
  },
  {
   "cell_type": "markdown",
   "metadata": {},
   "source": [
    "### Splitting Dataset, Train and Test"
   ]
  },
  {
   "cell_type": "code",
   "execution_count": null,
   "metadata": {},
   "outputs": [],
   "source": [
    "X_train, X_test, y_train, y_test = train_test_split(\n",
    "    X_encoded, y, test_size = 0.2, random_state = 0\n",
    ")"
   ]
  },
  {
   "cell_type": "markdown",
   "metadata": {},
   "source": [
    "## Building Algorithms to Test Various Methods"
   ]
  },
  {
   "cell_type": "markdown",
   "metadata": {},
   "source": [
    "### Logistic Regression"
   ]
  },
  {
   "cell_type": "code",
   "execution_count": 11,
   "metadata": {},
   "outputs": [
    {
     "name": "stdout",
     "output_type": "stream",
     "text": [
      "Accuracy: 0.6549935149156939\n",
      "              precision    recall  f1-score   support\n",
      "\n",
      "          No       0.99      0.64      0.78      2902\n",
      "         Yes       0.14      0.91      0.24       182\n",
      "\n",
      "    accuracy                           0.65      3084\n",
      "   macro avg       0.56      0.78      0.51      3084\n",
      "weighted avg       0.94      0.65      0.75      3084\n",
      "\n"
     ]
    },
    {
     "data": {
      "image/png": "[encoded data removed]",
      "text/plain": [
       "<Figure size 640x480 with 2 Axes>"
      ]
     },
     "metadata": {},
     "output_type": "display_data"
    },
    {
     "data": {
      "text/plain": [
       "(LogisticRegression(class_weight='balanced', max_iter=9000, random_state=0),\n",
       " array(['No', 'Yes', 'No', ..., 'No', 'Yes', 'No'], dtype=object),\n",
       " array([[1854, 1048],\n",
       "        [  16,  166]]))"
      ]
     },
     "execution_count": 11,
     "metadata": {},
     "output_type": "execute_result"
    }
   ],
   "source": [
    "def logistic_regression(X_train, X_test, y_test, y_train):\n",
    "    lr_model = LogisticRegression(\n",
    "        class_weight = 'balanced', # balanced it sufficient as fraud is the minority class\n",
    "        max_iter = 9000,\n",
    "        random_state = 0\n",
    "    )\n",
    "    ## Accuracy 'No' = 99% 'Yes' = 14%\n",
    "    #  Recall 'No' = 0.64 'Yes' = 91%\n",
    "    #  Good at at identifying non fraudulent claims, terrible at identifying fraud\n",
    "    #  Over classifies fraudulent claims\n",
    "    #  This is because fraud claims are a small portion of samples so classes are imbalanced, so difficult to learn\n",
    "    # ##\n",
    "    \n",
    "    # Training model\n",
    "    lr_model.fit(X_train, y_train)\n",
    "    \n",
    "    # Make Predictions\n",
    "    y_pred = lr_model.predict(X_test)\n",
    "    \n",
    "    # Evaluation with confusion Matrix\n",
    "    print(f'Accuracy: {accuracy_score(y_test, y_pred)}')\n",
    "    print(classification_report(y_test, y_pred))\n",
    "    \n",
    "    cnf_matrix = confusion_matrix(y_test, y_pred)\n",
    "    # cnf_matrix\n",
    "    \n",
    "    # create heatmap\n",
    "    sns.heatmap(cnf_matrix, annot=True, cmap=\"Blues\", fmt='d')\n",
    "    plt.tight_layout()\n",
    "    plt.title('Confusion Matrix', y=1.1)\n",
    "    plt.ylabel('Actual')\n",
    "    plt.xlabel('Predicted')\n",
    "    plt.show()\n",
    "    \n",
    "    return lr_model, y_pred, cnf_matrix\n",
    "\n",
    "logistic_regression(X_train, X_test, y_test, y_train)\n",
    "    "
   ]
  },
  {
   "cell_type": "markdown",
   "metadata": {},
   "source": [
    "### Decision Tree"
   ]
  },
  {
   "cell_type": "code",
   "execution_count": null,
   "metadata": {},
   "outputs": [
    {
     "name": "stdout",
     "output_type": "stream",
     "text": [
      "Best parameters: {'criterion': 'entropy', 'max_depth': 3, 'min_samples_leaf': 50}\n",
      "Best score: DecisionTreeClassifier(criterion='entropy', max_depth=3, min_samples_leaf=50)\n",
      "Accuracy: 0.6121919584954605\n",
      "              precision    recall  f1-score   support\n",
      "\n",
      "          No       1.00      0.59      0.74      2902\n",
      "         Yes       0.13      0.97      0.23       182\n",
      "\n",
      "    accuracy                           0.61      3084\n",
      "   macro avg       0.56      0.78      0.48      3084\n",
      "weighted avg       0.95      0.61      0.71      3084\n",
      "\n"
     ]
    },
    {
     "data": {
      "image/png": "[encoded data removed]",
      "text/plain": [
       "<Figure size 640x480 with 2 Axes>"
      ]
     },
     "metadata": {},
     "output_type": "display_data"
    }
   ],
   "source": [
    "def decision_tree(X_test,X_train, y_test, y_train):\n",
    "    \n",
    "    param_grid = {\n",
    "        'criterion': ['entropy', 'gini', 'log_loss'],\n",
    "        'max_depth': [3, 5, 7, 10],\n",
    "        'min_samples_leaf': [50, 75, 100]\n",
    "    }\n",
    "    \n",
    "    # weights = { \n",
    "    #     'No': 1,\n",
    "    #     'Yes': 5\n",
    "    # }\n",
    "    \n",
    "    dt_model = DecisionTreeClassifier()\n",
    "    \n",
    "    recall_scorer = make_scorer(recall_score, pos_label=\"Yes\")\n",
    "    \n",
    "    # grid search helps find optimal parameters\n",
    "    grid_search = GridSearchCV(\n",
    "        estimator=dt_model,\n",
    "        param_grid=param_grid,\n",
    "        cv=5,\n",
    "        scoring=recall_scorer,\n",
    "        n_jobs=1\n",
    "    )\n",
    "    \n",
    "    X_train_res, y_train_res = SMOTE().fit_resample(X_train, y_train)\n",
    "    \n",
    "    grid_search.fit(X_train_res, y_train_res)\n",
    "    # grid_search.fit(X_train, y_train)\n",
    "    \n",
    "    best_params = grid_search.best_params_\n",
    "    best_model = grid_search.best_estimator_\n",
    "    \n",
    "    print(\"Best parameters:\", best_params)\n",
    "    print(\"Best score:\", best_model)\n",
    "    \n",
    "    # Make Predictions\n",
    "    y_pred = grid_search.predict(X_test)\n",
    "    \n",
    "    # Evaluation with confusion Matrix\n",
    "    print(f'Accuracy: {accuracy_score(y_test, y_pred)}')\n",
    "    print(classification_report(y_test, y_pred))\n",
    "    \n",
    "    cnf_matrix = confusion_matrix(y_test, y_pred)\n",
    "    \n",
    "    # create heatmap\n",
    "    sns.heatmap(cnf_matrix, annot=True, cmap=\"Blues\", fmt='d')\n",
    "    plt.tight_layout()\n",
    "    plt.title('Confusion Matrix', y=1.1)\n",
    "    plt.ylabel('Actual')\n",
    "    plt.xlabel('Predicted')\n",
    "    plt.show()\n",
    "    \n",
    "    return\n",
    "\n",
    "decision_tree(X_test, X_train, y_test, y_train)\n",
    "# Large number of false negatives, however very good at categorising non fraud,\n",
    "# with default weight\n",
    "# Implies heavy majority class bias\n",
    "\n",
    "# When custom weighting applied to minority class,\n",
    "# Dramatic reduction in false negatives, with increase in false positives \n",
    "# Very few fraud cases are now mis-classified\n",
    "\n",
    "# Removing custom weight and adding SMOTE achieves the same outcome as custom weighting"
   ]
  },
  {
   "cell_type": "markdown",
   "metadata": {},
   "source": [
    "### Random Forest Classifier "
   ]
  },
  {
   "cell_type": "code",
   "execution_count": null,
   "metadata": {},
   "outputs": [
    {
     "name": "stdout",
     "output_type": "stream",
     "text": [
      "Best parameters: {'criterion': 'gini', 'max_depth': 10, 'min_samples_leaf': 50}\n",
      "Best score: RandomForestClassifier(class_weight={'No': 1, 'Yes': 5}, max_depth=10,\n",
      "                       min_samples_leaf=50)\n",
      "Accuracy: 0.62905317769131\n",
      "              precision    recall  f1-score   support\n",
      "\n",
      "          No       0.99      0.61      0.76      2902\n",
      "         Yes       0.13      0.95      0.23       182\n",
      "\n",
      "    accuracy                           0.63      3084\n",
      "   macro avg       0.56      0.78      0.49      3084\n",
      "weighted avg       0.94      0.63      0.72      3084\n",
      "\n"
     ]
    },
    {
     "data": {
      "image/png": "[encoded data removed]",
      "text/plain": [
       "<Figure size 640x480 with 2 Axes>"
      ]
     },
     "metadata": {},
     "output_type": "display_data"
    }
   ],
   "source": [
    "def random_forest(X_test, X_train, y_test, y_train):\n",
    "    param_grid = {\n",
    "        'criterion': ['gini', 'entropy', 'log_loss'],\n",
    "        'max_depth': [3, 5, 7, 10],\n",
    "        'min_samples_leaf': [50, 75, 100]\n",
    "    }\n",
    "    \n",
    "    rf_model = RandomForestClassifier(class_weight={\n",
    "        'No': 1,\n",
    "        'Yes': 5\n",
    "    })\n",
    "    \n",
    "    recall_scorer = make_scorer(recall_score, pos_label = \"No\")\n",
    "    \n",
    "    grid_search = GridSearchCV(\n",
    "        estimator= rf_model,\n",
    "        param_grid= param_grid,\n",
    "        scoring= recall_scorer,\n",
    "        cv = 5,\n",
    "        n_jobs= 1\n",
    "    )\n",
    "    \n",
    "    # Without SMOTE, the dataset was too small for the model to learn\n",
    "    # ended up classifying everything as not fraud\n",
    "    X_train_res, y_train_res = SMOTE().fit_resample(X_train, y_train)\n",
    "    # After SMOTE applied, better performance at classifying fraud, large number of false positives\n",
    "    \n",
    "    grid_search.fit(X_train_res, y_train_res)\n",
    "    \n",
    "    best_params = grid_search.best_params_\n",
    "    best_model = grid_search.best_estimator_\n",
    "    \n",
    "    print(\"Best parameters:\", best_params)\n",
    "    print(\"Best score:\", best_model)\n",
    "    \n",
    "    # Make Predictions\n",
    "    y_pred = grid_search.predict(X_test)\n",
    "    \n",
    "    # Evaluation with confusion Matrix\n",
    "    print(f'Accuracy: {accuracy_score(y_test, y_pred)}')\n",
    "    print(classification_report(y_test, y_pred))\n",
    "    \n",
    "    cnf_matrix = confusion_matrix(y_test, y_pred)\n",
    "    \n",
    "    # create heatmap\n",
    "    sns.heatmap(cnf_matrix, annot=True, cmap=\"Blues\", fmt='d')\n",
    "    plt.tight_layout()\n",
    "    plt.title('Confusion Matrix', y=1.1)\n",
    "    plt.ylabel('Actual')\n",
    "    plt.xlabel('Predicted')\n",
    "    plt.show()\n",
    "    \n",
    "    return \n",
    "\n",
    "random_forest(X_test, X_train, y_test, y_train)"
   ]
  },
  {
   "cell_type": "markdown",
   "metadata": {},
   "source": [
    "#### Decision Tree has a similar performance as Random Forest\n",
    "    Small dataset leads to the model failing to learn,\n",
    "    Larger dataset is needed to train"
   ]
  },
  {
   "cell_type": "markdown",
   "metadata": {},
   "source": [
    "### K-Nearest Neighbours"
   ]
  },
  {
   "cell_type": "code",
   "execution_count": null,
   "metadata": {},
   "outputs": [
    {
     "name": "stdout",
     "output_type": "stream",
     "text": [
      "Accuracy: 0.6267833981841764\n",
      "              precision    recall  f1-score   support\n",
      "\n",
      "          No       0.97      0.62      0.76      2902\n",
      "         Yes       0.10      0.69      0.18       182\n",
      "\n",
      "    accuracy                           0.63      3084\n",
      "   macro avg       0.54      0.66      0.47      3084\n",
      "weighted avg       0.92      0.63      0.72      3084\n",
      "\n"
     ]
    },
    {
     "data": {
      "image/png": "[encoded data removed]",
      "text/plain": [
       "<Figure size 640x480 with 2 Axes>"
      ]
     },
     "metadata": {},
     "output_type": "display_data"
    }
   ],
   "source": [
    "# Normalising data for K_neighbours and K-Mean\n",
    "scaler = RobustScaler()\n",
    "X_train_scaled = scaler.fit_transform(X_train)\n",
    "X_test_scaled = scaler.fit_transform(X_test)\n",
    "\n",
    "def k_neighbours(X_train_scaled, X_test_scaled, y_train, y_test):\n",
    "    \n",
    "    knn_model = KNeighborsClassifier(\n",
    "        weights='uniform',\n",
    "        algorithm='auto',\n",
    "        p = 2, # increasing p, increases number of false positives \n",
    "        n_jobs=1\n",
    "    )\n",
    "    \n",
    "    # knn_model.fit(X_train_scaled, y_train)\n",
    "    \n",
    "    # poor performance with default dataset, large amount of false negatives, when p=2, dataset is too small\n",
    "    \n",
    "    X_train_res, y_train_res = SMOTE().fit_resample(X_train_scaled, y_train)\n",
    "    # After SMOTE applied, better performance at classifying fraud, large number of false positives when p=2\n",
    "    \n",
    "    knn_model.fit(X_train_res, y_train_res)\n",
    "    \n",
    "    y_pred = knn_model.predict(X_test_scaled)\n",
    "    \n",
    "    # Evaluation with confusion Matrix\n",
    "    print(f'Accuracy: {accuracy_score(y_test, y_pred)}')\n",
    "    print(classification_report(y_test, y_pred))\n",
    "    \n",
    "    cnf_matrix = confusion_matrix(y_test, y_pred)\n",
    "    \n",
    "    # create heatmap\n",
    "    sns.heatmap(cnf_matrix, annot=True, cmap=\"Blues\", fmt='d')\n",
    "    plt.tight_layout()\n",
    "    plt.title('Confusion Matrix', y=1.1)\n",
    "    plt.ylabel('Actual')\n",
    "    plt.xlabel('Predicted')\n",
    "    plt.show()\n",
    "    \n",
    "    return\n",
    "\n",
    "k_neighbours(X_train_scaled, X_test_scaled, y_train, y_test)"
   ]
  },
  {
   "cell_type": "markdown",
   "metadata": {},
   "source": [
    "### K-Means"
   ]
  },
  {
   "cell_type": "code",
   "execution_count": null,
   "metadata": {},
   "outputs": [
    {
     "name": "stdout",
     "output_type": "stream",
     "text": [
      "Before OverSampling, counts of label '1': 741\n",
      "Before OverSampling, counts of label '0': 11595 \n",
      "\n",
      "After OverSampling, counts of label '1': 11595\n",
      "After OverSampling, counts of label '0': 11595\n",
      "Accuracy: 0.9189364461738002\n",
      "              precision    recall  f1-score   support\n",
      "\n",
      "          No       0.94      0.98      0.96      2902\n",
      "         Yes       0.03      0.01      0.02       182\n",
      "\n",
      "    accuracy                           0.92      3084\n",
      "   macro avg       0.48      0.49      0.49      3084\n",
      "weighted avg       0.89      0.92      0.90      3084\n",
      "\n"
     ]
    },
    {
     "data": {
      "image/png": "[encoded data removed]",
      "text/plain": [
       "<Figure size 640x480 with 2 Axes>"
      ]
     },
     "metadata": {},
     "output_type": "display_data"
    }
   ],
   "source": [
    "def k_means(X_train_scaled, X_test_scaled, y_train, y_test):\n",
    "    km_model = KMeans(\n",
    "        n_clusters= 2,\n",
    "        init='k-means++',\n",
    "        n_init=10,\n",
    "        random_state=0\n",
    "    )\n",
    "    # print(\"Before OverSampling, counts of label '1': {}\".format(sum(y_train == 'Yes')))\n",
    "    # print(\"Before OverSampling, counts of label '0': {} \\n\".format(sum(y_train == 'No')))\n",
    "\n",
    "    X_train_res, y_train_res = SMOTE().fit_resample(X_train_scaled, y_train)\n",
    "    km_model.fit(X_train_res, y_train_res)\n",
    "    \n",
    "    # print(\"After OverSampling, counts of label '1': {}\".format(sum(y_train_res == 'Yes')))\n",
    "    # print(\"After OverSampling, counts of label '0': {}\".format(sum(y_train_res == 'No')))\n",
    "    # km_model.fit(X_train_scaled)\n",
    "    \n",
    "    y_pred = km_model.predict(X_test_scaled)\n",
    "    \n",
    "    label_map = {0: 'No', 1: 'Yes'}\n",
    "    y_pred = np.array([label_map[x] for x in y_pred])\n",
    "    \n",
    "    # Evaluation with confusion Matrix\n",
    "    print(f'Accuracy: {accuracy_score(y_test, y_pred)}')\n",
    "    print(classification_report(y_test, y_pred))\n",
    "    \n",
    "    cnf_matrix = confusion_matrix(y_test, y_pred)\n",
    "    \n",
    "    # create heatmap\n",
    "    sns.heatmap(cnf_matrix, annot=True, cmap=\"Blues\", fmt='d')\n",
    "    plt.tight_layout()\n",
    "    plt.title('Confusion Matrix', y=1.1)\n",
    "    plt.ylabel('Actual')\n",
    "    plt.xlabel('Predicted')\n",
    "    plt.show()\n",
    "    \n",
    "    return \n",
    "\n",
    "k_means(X_train_scaled, X_test_scaled, y_train, y_test)"
   ]
  }
 ],
 "metadata": {
  "kernelspec": {
   "display_name": ".venv",
   "language": "python",
   "name": "python3"
  },
  "language_info": {
   "codemirror_mode": {
    "name": "ipython",
    "version": 3
   },
   "file_extension": ".py",
   "mimetype": "text/x-python",
   "name": "python",
   "nbconvert_exporter": "python",
   "pygments_lexer": "ipython3",
   "version": "3.11.9"
  }
 },
 "nbformat": 4,
 "nbformat_minor": 2
}
