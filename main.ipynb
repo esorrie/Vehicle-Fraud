{
 "cells": [
  {
   "cell_type": "markdown",
   "metadata": {},
   "source": []
  },
  {
   "cell_type": "markdown",
   "metadata": {},
   "source": [
    "# Vehicle Fraud Detection"
   ]
  },
  {
   "cell_type": "markdown",
   "metadata": {},
   "source": [
    "## Loading Data and Data Exploration"
   ]
  },
  {
   "cell_type": "code",
   "execution_count": 150,
   "metadata": {},
   "outputs": [
    {
     "name": "stdout",
     "output_type": "stream",
     "text": [
      "Dataset shape: (15420, 33)\n",
      "<class 'pandas.core.frame.DataFrame'>\n",
      "RangeIndex: 15420 entries, 0 to 15419\n",
      "Data columns (total 33 columns):\n",
      " #   Column                Non-Null Count  Dtype \n",
      "---  ------                --------------  ----- \n",
      " 0   Month                 15420 non-null  object\n",
      " 1   WeekOfMonth           15420 non-null  int64 \n",
      " 2   DayOfWeek             15420 non-null  object\n",
      " 3   Make                  15420 non-null  object\n",
      " 4   AccidentArea          15420 non-null  object\n",
      " 5   DayOfWeekClaimed      15420 non-null  object\n",
      " 6   MonthClaimed          15420 non-null  object\n",
      " 7   WeekOfMonthClaimed    15420 non-null  int64 \n",
      " 8   Sex                   15420 non-null  object\n",
      " 9   MaritalStatus         15420 non-null  object\n",
      " 10  Age                   15420 non-null  int64 \n",
      " 11  Fault                 15420 non-null  object\n",
      " 12  PolicyType            15420 non-null  object\n",
      " 13  VehicleCategory       15420 non-null  object\n",
      " 14  VehiclePrice          15420 non-null  object\n",
      " 15  PolicyNumber          15420 non-null  int64 \n",
      " 16  RepNumber             15420 non-null  int64 \n",
      " 17  Deductible            15420 non-null  int64 \n",
      " 18  DriverRating          15420 non-null  int64 \n",
      " 19  Days:Policy-Accident  15420 non-null  object\n",
      " 20  Days:Policy-Claim     15420 non-null  object\n",
      " 21  PastNumberOfClaims    15420 non-null  object\n",
      " 22  AgeOfVehicle          15420 non-null  object\n",
      " 23  AgeOfPolicyHolder     15420 non-null  object\n",
      " 24  PoliceReportFiled     15420 non-null  object\n",
      " 25  WitnessPresent        15420 non-null  object\n",
      " 26  AgentType             15420 non-null  object\n",
      " 27  NumberOfSuppliments   15420 non-null  object\n",
      " 28  AddressChange-Claim   15420 non-null  object\n",
      " 29  NumberOfCars          15420 non-null  object\n",
      " 30  Year                  15420 non-null  int64 \n",
      " 31  BasePolicy            15420 non-null  object\n",
      " 32  FraudFound            15420 non-null  object\n",
      "dtypes: int64(8), object(25)\n",
      "memory usage: 3.9+ MB\n",
      "Data Type: None\n",
      "\n",
      "Class Distribution FraudFound\n",
      "No     0.940143\n",
      "Yes    0.059857\n",
      "Name: proportion, dtype: float64\n"
     ]
    }
   ],
   "source": [
    "import pandas as pd\n",
    "from sklearn.preprocessing import OneHotEncoder\n",
    "from sklearn.model_selection import train_test_split\n",
    "from sklearn.linear_model import LogisticRegression\n",
    "from sklearn.metrics import accuracy_score, classification_report, confusion_matrix\n",
    "import matplotlib.pyplot as plt\n",
    "import seaborn as sns\n",
    "import numpy as np\n",
    "\n",
    "# Loading data\n",
    "data = pd.read_csv('carclaims.csv')\n",
    "\n",
    "# Basic info on data\n",
    "print(\"Dataset shape:\", data.shape) # Rows and Columns of dataset\n",
    "print(\"Data Type:\", data.info())\n",
    "# print(\"\\nMissing Values\\n\", data.isnull().sum().sum()) \n",
    "print(\"\\nClass Distribution\", data['FraudFound'].value_counts(normalize=True))\n"
   ]
  },
  {
   "cell_type": "markdown",
   "metadata": {},
   "source": [
    "## Data Preprocessing"
   ]
  },
  {
   "cell_type": "code",
   "execution_count": 151,
   "metadata": {},
   "outputs": [
    {
     "data": {
      "text/html": [
       "<div>\n",
       "<style scoped>\n",
       "    .dataframe tbody tr th:only-of-type {\n",
       "        vertical-align: middle;\n",
       "    }\n",
       "\n",
       "    .dataframe tbody tr th {\n",
       "        vertical-align: top;\n",
       "    }\n",
       "\n",
       "    .dataframe thead th {\n",
       "        text-align: right;\n",
       "    }\n",
       "</style>\n",
       "<table border=\"1\" class=\"dataframe\">\n",
       "  <thead>\n",
       "    <tr style=\"text-align: right;\">\n",
       "      <th></th>\n",
       "      <th>Month</th>\n",
       "      <th>WeekOfMonth</th>\n",
       "      <th>DayOfWeek</th>\n",
       "      <th>Make</th>\n",
       "      <th>AccidentArea</th>\n",
       "      <th>DayOfWeekClaimed</th>\n",
       "      <th>MonthClaimed</th>\n",
       "      <th>WeekOfMonthClaimed</th>\n",
       "      <th>Sex</th>\n",
       "      <th>MaritalStatus</th>\n",
       "      <th>...</th>\n",
       "      <th>AgeOfPolicyHolder</th>\n",
       "      <th>PoliceReportFiled</th>\n",
       "      <th>WitnessPresent</th>\n",
       "      <th>AgentType</th>\n",
       "      <th>NumberOfSuppliments</th>\n",
       "      <th>AddressChange-Claim</th>\n",
       "      <th>NumberOfCars</th>\n",
       "      <th>Year</th>\n",
       "      <th>BasePolicy</th>\n",
       "      <th>FraudFound</th>\n",
       "    </tr>\n",
       "  </thead>\n",
       "  <tbody>\n",
       "    <tr>\n",
       "      <th>0</th>\n",
       "      <td>Dec</td>\n",
       "      <td>5</td>\n",
       "      <td>Wednesday</td>\n",
       "      <td>Honda</td>\n",
       "      <td>Urban</td>\n",
       "      <td>Tuesday</td>\n",
       "      <td>Jan</td>\n",
       "      <td>1</td>\n",
       "      <td>Female</td>\n",
       "      <td>Single</td>\n",
       "      <td>...</td>\n",
       "      <td>26 to 30</td>\n",
       "      <td>No</td>\n",
       "      <td>No</td>\n",
       "      <td>External</td>\n",
       "      <td>none</td>\n",
       "      <td>1 year</td>\n",
       "      <td>3 to 4</td>\n",
       "      <td>1994</td>\n",
       "      <td>Liability</td>\n",
       "      <td>No</td>\n",
       "    </tr>\n",
       "  </tbody>\n",
       "</table>\n",
       "<p>1 rows × 33 columns</p>\n",
       "</div>"
      ],
      "text/plain": [
       "  Month  WeekOfMonth  DayOfWeek   Make AccidentArea DayOfWeekClaimed  \\\n",
       "0   Dec            5  Wednesday  Honda        Urban          Tuesday   \n",
       "\n",
       "  MonthClaimed  WeekOfMonthClaimed     Sex MaritalStatus  ...  \\\n",
       "0          Jan                   1  Female        Single  ...   \n",
       "\n",
       "   AgeOfPolicyHolder PoliceReportFiled WitnessPresent AgentType  \\\n",
       "0           26 to 30                No             No  External   \n",
       "\n",
       "  NumberOfSuppliments  AddressChange-Claim  NumberOfCars  Year  BasePolicy  \\\n",
       "0                none               1 year        3 to 4  1994   Liability   \n",
       "\n",
       "  FraudFound  \n",
       "0         No  \n",
       "\n",
       "[1 rows x 33 columns]"
      ]
     },
     "execution_count": 151,
     "metadata": {},
     "output_type": "execute_result"
    }
   ],
   "source": [
    "data.head(1)"
   ]
  },
  {
   "cell_type": "code",
   "execution_count": 152,
   "metadata": {},
   "outputs": [],
   "source": [
    "# copy of data to avoid modifying original data\n",
    "data_copy = data.copy()"
   ]
  },
  {
   "cell_type": "code",
   "execution_count": 153,
   "metadata": {},
   "outputs": [
    {
     "data": {
      "text/plain": [
       "Index(['Month', 'WeekOfMonth', 'DayOfWeek', 'Make', 'AccidentArea',\n",
       "       'DayOfWeekClaimed', 'MonthClaimed', 'WeekOfMonthClaimed', 'Sex',\n",
       "       'MaritalStatus', 'Age', 'Fault', 'PolicyType', 'VehicleCategory',\n",
       "       'VehiclePrice', 'PolicyNumber', 'RepNumber', 'Deductible',\n",
       "       'DriverRating', 'Days:Policy-Accident', 'Days:Policy-Claim',\n",
       "       'PastNumberOfClaims', 'AgeOfVehicle', 'AgeOfPolicyHolder',\n",
       "       'PoliceReportFiled', 'WitnessPresent', 'AgentType',\n",
       "       'NumberOfSuppliments', 'AddressChange-Claim', 'NumberOfCars', 'Year',\n",
       "       'BasePolicy', 'FraudFound'],\n",
       "      dtype='object')"
      ]
     },
     "execution_count": 153,
     "metadata": {},
     "output_type": "execute_result"
    }
   ],
   "source": [
    "data_copy.columns"
   ]
  },
  {
   "cell_type": "code",
   "execution_count": 154,
   "metadata": {},
   "outputs": [
    {
     "data": {
      "text/html": [
       "<div>\n",
       "<style scoped>\n",
       "    .dataframe tbody tr th:only-of-type {\n",
       "        vertical-align: middle;\n",
       "    }\n",
       "\n",
       "    .dataframe tbody tr th {\n",
       "        vertical-align: top;\n",
       "    }\n",
       "\n",
       "    .dataframe thead th {\n",
       "        text-align: right;\n",
       "    }\n",
       "</style>\n",
       "<table border=\"1\" class=\"dataframe\">\n",
       "  <thead>\n",
       "    <tr style=\"text-align: right;\">\n",
       "      <th></th>\n",
       "      <th>AgeOfPolicyHolder</th>\n",
       "      <th>Age</th>\n",
       "    </tr>\n",
       "  </thead>\n",
       "  <tbody>\n",
       "    <tr>\n",
       "      <th>0</th>\n",
       "      <td>26 to 30</td>\n",
       "      <td>21</td>\n",
       "    </tr>\n",
       "    <tr>\n",
       "      <th>1</th>\n",
       "      <td>31 to 35</td>\n",
       "      <td>34</td>\n",
       "    </tr>\n",
       "    <tr>\n",
       "      <th>2</th>\n",
       "      <td>41 to 50</td>\n",
       "      <td>47</td>\n",
       "    </tr>\n",
       "    <tr>\n",
       "      <th>3</th>\n",
       "      <td>51 to 65</td>\n",
       "      <td>65</td>\n",
       "    </tr>\n",
       "    <tr>\n",
       "      <th>4</th>\n",
       "      <td>31 to 35</td>\n",
       "      <td>27</td>\n",
       "    </tr>\n",
       "    <tr>\n",
       "      <th>...</th>\n",
       "      <td>...</td>\n",
       "      <td>...</td>\n",
       "    </tr>\n",
       "    <tr>\n",
       "      <th>15415</th>\n",
       "      <td>31 to 35</td>\n",
       "      <td>35</td>\n",
       "    </tr>\n",
       "    <tr>\n",
       "      <th>15416</th>\n",
       "      <td>31 to 35</td>\n",
       "      <td>30</td>\n",
       "    </tr>\n",
       "    <tr>\n",
       "      <th>15417</th>\n",
       "      <td>26 to 30</td>\n",
       "      <td>24</td>\n",
       "    </tr>\n",
       "    <tr>\n",
       "      <th>15418</th>\n",
       "      <td>31 to 35</td>\n",
       "      <td>34</td>\n",
       "    </tr>\n",
       "    <tr>\n",
       "      <th>15419</th>\n",
       "      <td>26 to 30</td>\n",
       "      <td>21</td>\n",
       "    </tr>\n",
       "  </tbody>\n",
       "</table>\n",
       "<p>15420 rows × 2 columns</p>\n",
       "</div>"
      ],
      "text/plain": [
       "      AgeOfPolicyHolder  Age\n",
       "0              26 to 30   21\n",
       "1              31 to 35   34\n",
       "2              41 to 50   47\n",
       "3              51 to 65   65\n",
       "4              31 to 35   27\n",
       "...                 ...  ...\n",
       "15415          31 to 35   35\n",
       "15416          31 to 35   30\n",
       "15417          26 to 30   24\n",
       "15418          31 to 35   34\n",
       "15419          26 to 30   21\n",
       "\n",
       "[15420 rows x 2 columns]"
      ]
     },
     "execution_count": 154,
     "metadata": {},
     "output_type": "execute_result"
    }
   ],
   "source": [
    "# check any columns for repeating data \n",
    "data_copy[['AgeOfPolicyHolder', 'Age']]"
   ]
  },
  {
   "cell_type": "code",
   "execution_count": 155,
   "metadata": {},
   "outputs": [
    {
     "data": {
      "text/html": [
       "<div>\n",
       "<style scoped>\n",
       "    .dataframe tbody tr th:only-of-type {\n",
       "        vertical-align: middle;\n",
       "    }\n",
       "\n",
       "    .dataframe tbody tr th {\n",
       "        vertical-align: top;\n",
       "    }\n",
       "\n",
       "    .dataframe thead th {\n",
       "        text-align: right;\n",
       "    }\n",
       "</style>\n",
       "<table border=\"1\" class=\"dataframe\">\n",
       "  <thead>\n",
       "    <tr style=\"text-align: right;\">\n",
       "      <th></th>\n",
       "      <th>BasePolicy</th>\n",
       "      <th>PolicyType</th>\n",
       "      <th>VehicleCategory</th>\n",
       "    </tr>\n",
       "  </thead>\n",
       "  <tbody>\n",
       "    <tr>\n",
       "      <th>0</th>\n",
       "      <td>Liability</td>\n",
       "      <td>Sport - Liability</td>\n",
       "      <td>Sport</td>\n",
       "    </tr>\n",
       "    <tr>\n",
       "      <th>1</th>\n",
       "      <td>Collision</td>\n",
       "      <td>Sport - Collision</td>\n",
       "      <td>Sport</td>\n",
       "    </tr>\n",
       "    <tr>\n",
       "      <th>2</th>\n",
       "      <td>Collision</td>\n",
       "      <td>Sport - Collision</td>\n",
       "      <td>Sport</td>\n",
       "    </tr>\n",
       "    <tr>\n",
       "      <th>3</th>\n",
       "      <td>Liability</td>\n",
       "      <td>Sedan - Liability</td>\n",
       "      <td>Sport</td>\n",
       "    </tr>\n",
       "    <tr>\n",
       "      <th>4</th>\n",
       "      <td>Collision</td>\n",
       "      <td>Sport - Collision</td>\n",
       "      <td>Sport</td>\n",
       "    </tr>\n",
       "    <tr>\n",
       "      <th>...</th>\n",
       "      <td>...</td>\n",
       "      <td>...</td>\n",
       "      <td>...</td>\n",
       "    </tr>\n",
       "    <tr>\n",
       "      <th>15415</th>\n",
       "      <td>Collision</td>\n",
       "      <td>Sedan - Collision</td>\n",
       "      <td>Sedan</td>\n",
       "    </tr>\n",
       "    <tr>\n",
       "      <th>15416</th>\n",
       "      <td>Liability</td>\n",
       "      <td>Sedan - Liability</td>\n",
       "      <td>Sport</td>\n",
       "    </tr>\n",
       "    <tr>\n",
       "      <th>15417</th>\n",
       "      <td>Collision</td>\n",
       "      <td>Sedan - Collision</td>\n",
       "      <td>Sedan</td>\n",
       "    </tr>\n",
       "    <tr>\n",
       "      <th>15418</th>\n",
       "      <td>All Perils</td>\n",
       "      <td>Sedan - All Perils</td>\n",
       "      <td>Sedan</td>\n",
       "    </tr>\n",
       "    <tr>\n",
       "      <th>15419</th>\n",
       "      <td>Collision</td>\n",
       "      <td>Sedan - Collision</td>\n",
       "      <td>Sedan</td>\n",
       "    </tr>\n",
       "  </tbody>\n",
       "</table>\n",
       "<p>15420 rows × 3 columns</p>\n",
       "</div>"
      ],
      "text/plain": [
       "       BasePolicy          PolicyType VehicleCategory\n",
       "0       Liability   Sport - Liability           Sport\n",
       "1       Collision   Sport - Collision           Sport\n",
       "2       Collision   Sport - Collision           Sport\n",
       "3       Liability   Sedan - Liability           Sport\n",
       "4       Collision   Sport - Collision           Sport\n",
       "...           ...                 ...             ...\n",
       "15415   Collision   Sedan - Collision           Sedan\n",
       "15416   Liability   Sedan - Liability           Sport\n",
       "15417   Collision   Sedan - Collision           Sedan\n",
       "15418  All Perils  Sedan - All Perils           Sedan\n",
       "15419   Collision   Sedan - Collision           Sedan\n",
       "\n",
       "[15420 rows x 3 columns]"
      ]
     },
     "execution_count": 155,
     "metadata": {},
     "output_type": "execute_result"
    }
   ],
   "source": [
    "data_copy[['BasePolicy', 'PolicyType', 'VehicleCategory']]"
   ]
  },
  {
   "cell_type": "markdown",
   "metadata": {},
   "source": [
    "### Removing redundant data columns\n",
    "### Separating claim data from fraud status "
   ]
  },
  {
   "cell_type": "code",
   "execution_count": 156,
   "metadata": {},
   "outputs": [],
   "source": [
    "# list of all redundant data points\n",
    "unwanted_data = ['PolicyNumber', 'BasePolicy', 'VehicleCategory', 'Age', 'FraudFound']\n",
    "\n",
    "#  Remove redundant data points\n",
    "X = data_copy.drop(unwanted_data, axis=1)\n",
    "\n",
    "#table that links entry ID in X to fraud value\n",
    "y = data_copy['FraudFound']"
   ]
  },
  {
   "cell_type": "markdown",
   "metadata": {},
   "source": []
  },
  {
   "cell_type": "code",
   "execution_count": 157,
   "metadata": {},
   "outputs": [],
   "source": [
    "# Extract categorical data, all data columns with datatype = object\n",
    "categorical_columns = X.select_dtypes(include=['object']).columns.tolist() # storing data columns as a list for easier handling\n",
    "encoder = OneHotEncoder(sparse_output=False)\n",
    "\n",
    "#  applying encoder to categorical data\n",
    "# fit_transform identifies all unique values in a category and transforms them into binary\n",
    "one_hot = encoder.fit_transform(X[categorical_columns])\n",
    "\n",
    "# Data frame of encoded columns\n",
    "one_hot_X = pd.DataFrame(one_hot, columns = encoder.get_feature_names_out(categorical_columns))\n",
    "\n",
    "# concat encoded data frame with original data\n",
    "X_encoded = pd.concat([X, one_hot_X], axis = 1)\n",
    "\n",
    "# Drop original categorical columns\n",
    "X_encoded = X_encoded.drop(categorical_columns, axis = 1)\n",
    "# print(f\"Encoded data :\\n {X_encoded}\")"
   ]
  },
  {
   "cell_type": "markdown",
   "metadata": {},
   "source": [
    "### Splitting Dataset, Train and Test"
   ]
  },
  {
   "cell_type": "code",
   "execution_count": 158,
   "metadata": {},
   "outputs": [],
   "source": [
    "X_train, X_test, y_train, y_test = train_test_split(\n",
    "    X_encoded, y, test_size = 0.1, random_state = 0\n",
    ")"
   ]
  },
  {
   "cell_type": "markdown",
   "metadata": {},
   "source": [
    "## Building Algorithms to Test Various Methods"
   ]
  },
  {
   "cell_type": "markdown",
   "metadata": {},
   "source": [
    "### Logistic Regression"
   ]
  },
  {
   "cell_type": "code",
   "execution_count": null,
   "metadata": {},
   "outputs": [
    {
     "name": "stdout",
     "output_type": "stream",
     "text": [
      "Accuracy: 0.6511024643320363\n",
      "              precision    recall  f1-score   support\n",
      "\n",
      "          No       0.99      0.63      0.77      1433\n",
      "         Yes       0.16      0.94      0.27       109\n",
      "\n",
      "    accuracy                           0.65      1542\n",
      "   macro avg       0.58      0.78      0.52      1542\n",
      "weighted avg       0.93      0.65      0.74      1542\n",
      "\n"
     ]
    },
    {
     "data": {
      "image/png": "[encoded data removed]",
      "text/plain": [
       "<Figure size 640x480 with 2 Axes>"
      ]
     },
     "metadata": {},
     "output_type": "display_data"
    },
    {
     "data": {
      "text/plain": [
       "(LogisticRegression(class_weight='balanced', max_iter=9000, random_state=0),\n",
       " array(['No', 'Yes', 'No', ..., 'No', 'No', 'No'], dtype=object),\n",
       " array([[902, 531],\n",
       "        [  7, 102]]))"
      ]
     },
     "execution_count": 162,
     "metadata": {},
     "output_type": "execute_result"
    }
   ],
   "source": [
    "def logistic_regression(X_train, X_test, y_test, y_train):\n",
    "    lr_model = LogisticRegression(\n",
    "        class_weight = 'balanced', # balanced it sufficient as fraud is the minority class\n",
    "        max_iter = 9000,\n",
    "        random_state = 0\n",
    "    )\n",
    "    ## Accuracy 'No' = 99% 'Yes' = 14%\n",
    "    #  Recall 'No' = 0.64 'Yes' = 91%\n",
    "    #  Good at at identifying non fraudulent claims, terrible at identifying fraud\n",
    "    #  Over classifies fraudulent claims\n",
    "    #  This is because fraud claims are a small portion of samples so classes are imbalanced, so difficult to learn\n",
    "    # ##\n",
    "    \n",
    "    # Training model\n",
    "    lr_model.fit(X_train, y_train)\n",
    "    \n",
    "    # Make Predictions\n",
    "    y_pred = lr_model.predict(X_test)\n",
    "    \n",
    "    # Evaluation with confusion Matrix\n",
    "    print(f'Accuracy: {accuracy_score(y_test, y_pred)}')\n",
    "    print(classification_report(y_test, y_pred))\n",
    "    \n",
    "    cnf_matrix = confusion_matrix(y_test, y_pred)\n",
    "    # cnf_matrix\n",
    "    \n",
    "    # create heatmap\n",
    "    sns.heatmap(cnf_matrix, annot=True, cmap=\"Blues\", fmt='d')\n",
    "    plt.tight_layout()\n",
    "    plt.title('Confusion Matrix', y=1.1)\n",
    "    plt.ylabel('Actual')\n",
    "    plt.xlabel('Predicted')\n",
    "    plt.show()\n",
    "    \n",
    "    return lr_model, y_pred, cnf_matrix\n",
    "\n",
    "logistic_regression(X_train, X_test, y_test, y_train)\n",
    "    "
   ]
  }
 ],
 "metadata": {
  "kernelspec": {
   "display_name": ".venv",
   "language": "python",
   "name": "python3"
  },
  "language_info": {
   "codemirror_mode": {
    "name": "ipython",
    "version": 3
   },
   "file_extension": ".py",
   "mimetype": "text/x-python",
   "name": "python",
   "nbconvert_exporter": "python",
   "pygments_lexer": "ipython3",
   "version": "3.11.9"
  }
 },
 "nbformat": 4,
 "nbformat_minor": 2
}
